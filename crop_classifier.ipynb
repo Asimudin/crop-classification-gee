
# ==============================================================================
# 2. PROJECT CONFIGURATION
# ==============================================================================
print("\nStep 2: Configuring project parameters...")
AOI = ee.Geometry.Rectangle([-94.0, 41.5, -93.0, 42.0]) # Data-rich Iowa AOI
YEAR = 2021 # Explicitly define the year

# Define the months of the growing season we are interested in
MONTHS = [4, 5, 6, 7, 8, 9]

BANDS = ['B2', 'B3', 'B4', 'B8']
INDICES = ['NDVI', 'EVI']
FEATURE_BANDS = BANDS + INDICES

CLASSES = {
    'Corn':       {'value': 0, 'color': '#FFD700'},
    'Soybeans':   {'value': 1, 'color': '#228B22'},
    'Fallow/Other':{'value': 2, 'color': '#A52A2A'},
}
CLASS_PROPERTY = 'landcover'


# ==============================================================================
# 3. GROUND TRUTH DATA
# ==============================================================================
print("\nStep 3: Creating simulated ground truth data...")
ground_truth_polygons = ee.FeatureCollection([
    ee.Feature(ee.Geometry.Polygon([[[-93.95, 41.95], [-93.95, 41.92], [-93.92, 41.92], [-93.92, 41.95]]]), {'landcover': 0}),
    ee.Feature(ee.Geometry.Polygon([[[-93.15, 41.65], [-93.15, 41.62], [-93.12, 41.62], [-93.12, 41.65]]]), {'landcover': 0}),
    ee.Feature(ee.Geometry.Polygon([[[-93.75, 41.85], [-93.75, 41.82], [-93.72, 41.82], [-93.72, 41.85]]]), {'landcover': 1}),
    ee.Feature(ee.Geometry.Polygon([[[-93.25, 41.75], [-93.25, 41.72], [-93.22, 41.72], [-93.22, 41.75]]]), {'landcover': 1}),
    ee.Feature(ee.Geometry.Polygon([[[-93.55, 41.55], [-93.55, 41.52], [-93.52, 41.52], [-93.52, 41.55]]]), {'landcover': 2}),
])


# ==============================================================================
# 4. TIME-SERIES FEATURE ENGINEERING (WITH ROBUST DATE LOGIC)
# ==============================================================================
print("\nStep 4: Building the time-series feature stack...")

def mask_s2_clouds(image):
    qa = image.select('QA60')
    cloud_bit_mask = 1 << 10
    cirrus_bit_mask = 1 << 11
    mask = qa.bitwiseAnd(cloud_bit_mask).eq(0).And(qa.bitwiseAnd(cirrus_bit_mask).eq(0))
    return image.updateMask(mask).divide(10000)

def add_indices(image):
    ndvi = image.normalizedDifference(['B8', 'B4']).rename('NDVI')
    evi = image.expression('2.5 * ((NIR - RED) / (NIR + 6 * RED - 7.5 * BLUE + 1))',
                           {'NIR': image.select('B8'), 'RED': image.select('B4'), 'BLUE': image.select('B2')}).rename('EVI')
    return image.addBands([ndvi, evi])

# --- PRIMARY DIAGNOSTIC CHECK ---
# Create the full date range for the entire season
season_start = ee.Date.fromYMD(YEAR, MONTHS[0], 1)
season_end = ee.Date.fromYMD(YEAR, MONTHS[-1], 1).advance(1, 'month')

# Create the main collection for the whole season
s2_collection = (ee.ImageCollection('COPERNICUS/S2_SR_HARMONIZED')
                  .filterBounds(AOI)
                  .filterDate(season_start, season_end)
                  .filter(ee.Filter.lt('CLOUDY_PIXEL_PERCENTAGE', 30)))

# VERIFY that the initial query found images
collection_size = s2_collection.size().getInfo()
print(f"   - Primary check: Found {collection_size} total images for the season.")
if collection_size == 0:
    raise ee.EEException("Data query failed. No images found for the entire season in the specified AOI and year.")


# --- ROBUST MONTHLY COMPOSITE LOGIC ---
def create_monthly_composite(month):
    # Construct start and end dates for the given month robustly
    start = ee.Date.fromYMD(YEAR, month, 1)
    end = start.advance(1, 'month')
    # Filter the main collection, add indices, and create a median composite
    monthly_median = s2_collection.filterDate(start, end).map(mask_s2_clouds).map(add_indices).median()
    return monthly_median.set('month', month)

# Map over the list of months to create the image collection
monthly_composites = ee.ImageCollection.fromImages(
    ee.List(MONTHS).map(create_monthly_composite)
)

# Filter out any potential empty images
valid_composites = monthly_composites.filter(ee.Filter.listContains('system:band_names', 'B2'))
print(f"   - Secondary check: Created {valid_composites.size().getInfo()} valid monthly composites.")

# Rename bands and stack into a single image
def rename_bands(image):
    month = ee.Number(image.get('month')).format('%d')
    return image.select(FEATURE_BANDS).rename(ee.List(FEATURE_BANDS).map(lambda b: ee.String(b).cat('_').cat(month)))

feature_stack = valid_composites.map(rename_bands).toBands()
print("   - Successfully created feature stack.")


# ==============================================================================
# 5. TRAINING DATA PREPARATION (WITH CORRECT ORDER OF OPERATIONS)
# ==============================================================================
print("\nStep 5: Sampling and preparing training data...")

# Combine the feature stack with the class labels (as an image band).
sampling_image = feature_stack.addBands(
    ground_truth_polygons.reduceToImage([CLASS_PROPERTY], ee.Reducer.first())
)

# Sample pixels and immediately add the random column for splitting.
raw_sampled_data = sampling_image.sample(
    region=ground_truth_polygons.geometry(),
    scale=10,
    numPixels=5000,
    seed=0,
    tileScale=4
).randomColumn() # The 'random' property is added here.

# --- THE CRITICAL FIX: SPLIT THE DATA *BEFORE* CLEANING ---
# Split the raw data, which still contains the 'random' property.
train_set_raw = raw_sampled_data.filter(ee.Filter.lt('random', 0.7))
test_set_raw = raw_sampled_data.filter(ee.Filter.gte('random', 0.7))

# Now, define a function to clean the features for the classifier.
# This function remaps the class label and selects ONLY the necessary properties.
def prep_feature_for_classifier(feature):
    # The class label is in the 'first' property. Remap it to 'landcover'.
    class_value = feature.get('first')
    feature_with_class = feature.set(CLASS_PROPERTY, class_value)

    # The properties needed are the input bands and the single class property.
    properties_to_keep = feature_stack.bandNames().add(CLASS_PROPERTY)

    # Select only these properties. This will discard 'first' and 'random'.
    return feature_with_class.select(properties_to_keep)

# Map this cleaning function over each dataset separately.
train_set = train_set_raw.map(prep_feature_for_classifier)
test_set = test_set_raw.map(prep_feature_for_classifier)

print(f"   - Total points sampled: {raw_sampled_data.size().getInfo()}")
print(f"   - Training points: {train_set.size().getInfo()}")
print(f"   - Testing points: {test_set.size().getInfo()}")


# ==============================================================================
# 6. TRAIN RANDOM FOREST CLASSIFIER
# ==============================================================================
print("\nStep 6: Training the Random Forest classifier...")

# Get the list of band names for the classifier inputs.
input_bands = feature_stack.bandNames()

# Train the classifier using the cleaned training set.
classifier = ee.Classifier.smileRandomForest(50, seed=0).train(
    features=train_set,
    classProperty=CLASS_PROPERTY,
    inputProperties=input_bands
)


# ==============================================================================
# 7. CLASSIFY THE AOI & ASSESS ACCURACY
# ==============================================================================
print("\nStep 7: Classifying the map and assessing accuracy...")

# Classify the entire feature stack image.
classification_map = feature_stack.classify(classifier)

# Assess the accuracy using the independent, cleaned test set.
confusion_matrix = test_set.classify(classifier).errorMatrix(CLASS_PROPERTY, 'classification')

print("   - Overall Accuracy:", confusion_matrix.accuracy().getInfo())
print("   - Kappa Coefficient:", confusion_matrix.kappa().getInfo())

# ==============================================================================
# 8. VISUALIZE THE RESULTS (WITH CORRECTED LEGEND)
# ==============================================================================
print("\nStep 8: Generating and displaying the final map...")

# The map visualization parameters are correct.
palette = [info['color'] for key, info in CLASSES.items()]
map_vis_params = {'min': 0, 'max': len(CLASSES)-1, 'palette': palette}

# Create the map and add the classified layer. This is also correct.
Map = geemap.Map()
Map.centerObject(AOI, 10)
Map.addLayer(classification_map, map_vis_params, 'Crop Classification Map')


# --- THE CRITICAL FIX IS HERE ---
# Instead of using the 'legend_dict' shortcut, we will explicitly provide
# the legend keys (labels) and colors in the format geemap expects.

# Get the class names (labels) for the legend
legend_keys = list(CLASSES.keys())

# Get the hex color strings for the legend
legend_colors = [info['color'] for info in CLASSES.values()]

# Call add_legend with the explicit 'keys' and 'colors' arguments.
# This is the most robust way to create a custom legend.
Map.add_legend(
    title="Crop Classes",
    keys=legend_keys,
    colors=legend_colors
)

# Display the final map with the correct legend.
display(Map)
print("\n\n==================== PROJECT COMPLETE ====================")
